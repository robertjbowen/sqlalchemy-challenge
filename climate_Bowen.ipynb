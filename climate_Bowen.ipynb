{
 "cells": [
  {
   "cell_type": "code",
   "execution_count": 1,
   "metadata": {},
   "outputs": [],
   "source": [
    "%matplotlib inline\n",
    "from matplotlib import style\n",
    "style.use('fivethirtyeight')\n",
    "import matplotlib.pyplot as plt\n",
    "import matplotlib.dates as mdates\n",
    "import matplotlib.ticker as mtick"
   ]
  },
  {
   "cell_type": "code",
   "execution_count": 2,
   "metadata": {},
   "outputs": [],
   "source": [
    "import numpy as np\n",
    "import pandas as pd"
   ]
  },
  {
   "cell_type": "code",
   "execution_count": 3,
   "metadata": {},
   "outputs": [],
   "source": [
    "from datetime import datetime\n",
    "import datetime as dt"
   ]
  },
  {
   "cell_type": "markdown",
   "metadata": {},
   "source": [
    "# Reflect Tables into SQLAlchemy ORM"
   ]
  },
  {
   "cell_type": "code",
   "execution_count": 4,
   "metadata": {},
   "outputs": [],
   "source": [
    "# Python SQL toolkit and Object Relational Mapper\n",
    "import sqlalchemy\n",
    "from sqlalchemy.ext.automap import automap_base\n",
    "from sqlalchemy.orm import Session\n",
    "from sqlalchemy import create_engine, func"
   ]
  },
  {
   "cell_type": "code",
   "execution_count": 5,
   "metadata": {},
   "outputs": [],
   "source": [
    "engine = create_engine(\"sqlite:///Resources/hawaii.sqlite\")"
   ]
  },
  {
   "cell_type": "code",
   "execution_count": 6,
   "metadata": {},
   "outputs": [],
   "source": [
    "# reflect an existing database into a new model\n",
    "Base = automap_base()\n",
    "# reflect the tables\n",
    "Base.prepare(engine, reflect=True)"
   ]
  },
  {
   "cell_type": "code",
   "execution_count": 7,
   "metadata": {},
   "outputs": [
    {
     "data": {
      "text/plain": [
       "['measurement', 'station']"
      ]
     },
     "execution_count": 7,
     "metadata": {},
     "output_type": "execute_result"
    }
   ],
   "source": [
    "# We can view all of the classes that automap found\n",
    "Base.classes.keys()"
   ]
  },
  {
   "cell_type": "code",
   "execution_count": 8,
   "metadata": {},
   "outputs": [],
   "source": [
    "# Save references to each table\n",
    "Station = Base.classes.station\n",
    "Measurement = Base.classes.measurement"
   ]
  },
  {
   "cell_type": "code",
   "execution_count": 9,
   "metadata": {},
   "outputs": [],
   "source": [
    "# Create our session (link) from Python to the DB\n",
    "session = Session(engine)\n"
   ]
  },
  {
   "cell_type": "markdown",
   "metadata": {},
   "source": [
    "# Exploratory Climate Analysis"
   ]
  },
  {
   "cell_type": "code",
   "execution_count": 10,
   "metadata": {},
   "outputs": [
    {
     "data": {
      "text/html": [
       "<div>\n",
       "<style scoped>\n",
       "    .dataframe tbody tr th:only-of-type {\n",
       "        vertical-align: middle;\n",
       "    }\n",
       "\n",
       "    .dataframe tbody tr th {\n",
       "        vertical-align: top;\n",
       "    }\n",
       "\n",
       "    .dataframe thead th {\n",
       "        text-align: right;\n",
       "    }\n",
       "</style>\n",
       "<table border=\"1\" class=\"dataframe\">\n",
       "  <thead>\n",
       "    <tr style=\"text-align: right;\">\n",
       "      <th></th>\n",
       "      <th>prcp</th>\n",
       "    </tr>\n",
       "    <tr>\n",
       "      <th>date</th>\n",
       "      <th></th>\n",
       "    </tr>\n",
       "  </thead>\n",
       "  <tbody>\n",
       "    <tr>\n",
       "      <th>2016-08-24</th>\n",
       "      <td>0.08</td>\n",
       "    </tr>\n",
       "    <tr>\n",
       "      <th>2016-08-24</th>\n",
       "      <td>NaN</td>\n",
       "    </tr>\n",
       "    <tr>\n",
       "      <th>2016-08-24</th>\n",
       "      <td>2.15</td>\n",
       "    </tr>\n",
       "    <tr>\n",
       "      <th>2016-08-24</th>\n",
       "      <td>2.28</td>\n",
       "    </tr>\n",
       "    <tr>\n",
       "      <th>2016-08-24</th>\n",
       "      <td>2.15</td>\n",
       "    </tr>\n",
       "    <tr>\n",
       "      <th>...</th>\n",
       "      <td>...</td>\n",
       "    </tr>\n",
       "    <tr>\n",
       "      <th>2017-08-22</th>\n",
       "      <td>0.00</td>\n",
       "    </tr>\n",
       "    <tr>\n",
       "      <th>2017-08-23</th>\n",
       "      <td>0.08</td>\n",
       "    </tr>\n",
       "    <tr>\n",
       "      <th>2017-08-23</th>\n",
       "      <td>0.00</td>\n",
       "    </tr>\n",
       "    <tr>\n",
       "      <th>2017-08-23</th>\n",
       "      <td>0.00</td>\n",
       "    </tr>\n",
       "    <tr>\n",
       "      <th>2017-08-23</th>\n",
       "      <td>0.45</td>\n",
       "    </tr>\n",
       "  </tbody>\n",
       "</table>\n",
       "<p>2223 rows × 1 columns</p>\n",
       "</div>"
      ],
      "text/plain": [
       "            prcp\n",
       "date            \n",
       "2016-08-24  0.08\n",
       "2016-08-24   NaN\n",
       "2016-08-24  2.15\n",
       "2016-08-24  2.28\n",
       "2016-08-24  2.15\n",
       "...          ...\n",
       "2017-08-22  0.00\n",
       "2017-08-23  0.08\n",
       "2017-08-23  0.00\n",
       "2017-08-23  0.00\n",
       "2017-08-23  0.45\n",
       "\n",
       "[2223 rows x 1 columns]"
      ]
     },
     "execution_count": 10,
     "metadata": {},
     "output_type": "execute_result"
    }
   ],
   "source": [
    "# Design a query to retrieve the last 12 months of precipitation data and plot the results\n",
    "# Calculate the date 1 year ago from the last data point in the database\n",
    "last_date = session.query(Measurement.date).order_by(Measurement.date.desc()).first()\n",
    "date_str = str(last_date).replace(',','').replace('(','').replace(')','').replace(\"'\",'')\n",
    "date = datetime.strptime(date_str, \"%Y-%m-%d\")\n",
    "query_date = date - dt.timedelta(days=365)\n",
    "\n",
    "# Perform a query to retrieve the data and precipitation scores\n",
    "results = session.query(Measurement.date, Measurement.prcp).filter(Measurement.date >= query_date).all()\n",
    "# Save the query results as a Pandas DataFrame and set the index to the date column\n",
    "precip_data = pd.DataFrame(results, columns=['date','prcp'])\n",
    "precip_data[\"date\"] = precip_data[\"date\"].astype('datetime64[D]').dt.date\n",
    "precip_data = precip_data.set_index('date')\n",
    "\n",
    "# Sort the dataframe by date\n",
    "precip_data = precip_data.sort_values(by=['date'])\n",
    "precip_data"
   ]
  },
  {
   "cell_type": "code",
   "execution_count": 11,
   "metadata": {},
   "outputs": [
    {
     "name": "stdout",
     "output_type": "stream",
     "text": [
      "                prcp\n",
      "date                \n",
      "2016-08-24  1.555000\n",
      "2016-08-25  0.077143\n",
      "2016-08-26  0.016667\n",
      "2016-08-27  0.064000\n",
      "2016-08-28  0.516667\n",
      "...              ...\n",
      "2017-08-19  0.030000\n",
      "2017-08-20  0.005000\n",
      "2017-08-21  0.193333\n",
      "2017-08-22  0.166667\n",
      "2017-08-23  0.132500\n",
      "\n",
      "[365 rows x 1 columns]\n"
     ]
    },
    {
     "data": {
      "image/png": "[encoded data removed]",
      "text/plain": [
       "<Figure size 432x288 with 1 Axes>"
      ]
     },
     "metadata": {},
     "output_type": "display_data"
    },
    {
     "data": {
      "image/png": "[encoded data removed]",
      "text/plain": [
       "<Figure size 432x288 with 1 Axes>"
      ]
     },
     "metadata": {},
     "output_type": "display_data"
    }
   ],
   "source": [
    "# Use Pandas Plotting with Matplotlib to plot the data\n",
    "precip_clean = precip_data.dropna(how='any')\n",
    "precip_grp = precip_clean.groupby(['date']).mean()\n",
    "print(precip_grp)\n",
    "\n",
    "precip_grp.plot.bar(label='Inches', width=4)\n",
    "plt.title(\"Average Precipitation by Date 2016-08-24 to 2017-08-23\")\n",
    "plt.xlabel(\"Date\")\n",
    "plt.ylabel(\"Inches\")\n",
    "x_axis = np.arange(len(precip_grp))\n",
    "plt.gca().xaxis.set_major_locator(mdates.MonthLocator())\n",
    "plt.setp(plt.gca().xaxis.get_majorticklabels(),'rotation', 90)\n",
    "plt.legend(loc=\"best\", fontsize='small', title='Precipitation')\n",
    "plt.xlim(-0.75, len(precip_grp)-.25)\n",
    "plt.ylim(0, max(precip_grp['prcp']) * 1.15)\n",
    "plt.grid(axis='y')\n",
    "plt.show()\n",
    "\n",
    "\n",
    "# Plot the Results in a Matplotlib bar chart\n",
    "plt.bar(x_axis, precip_grp['prcp'], align='center', label='Inches', width=4)\n",
    "plt.title(\"Average Precipitation by Date 2016-08-24 to 2017-08-23\")\n",
    "plt.xlabel(\"Date\")\n",
    "plt.ylabel(\"Inches\")\n",
    "x_axis = np.arange(len(precip_grp))\n",
    "plt.gca().xaxis.set_major_locator(mdates.MonthLocator())\n",
    "plt.setp(plt.gca().xaxis.get_majorticklabels(),'rotation', 90)\n",
    "plt.legend(loc=\"best\", fontsize='small', title='Precipitation')\n",
    "plt.xlim(-0.75, len(precip_grp)-.25)\n",
    "plt.ylim(0, max(precip_grp['prcp']) * 1.15)\n",
    "plt.grid(axis='y')\n",
    "plt.show()\n",
    "\n"
   ]
  },
  {
   "cell_type": "code",
   "execution_count": 12,
   "metadata": {},
   "outputs": [
    {
     "data": {
      "text/html": [
       "<div>\n",
       "<style scoped>\n",
       "    .dataframe tbody tr th:only-of-type {\n",
       "        vertical-align: middle;\n",
       "    }\n",
       "\n",
       "    .dataframe tbody tr th {\n",
       "        vertical-align: top;\n",
       "    }\n",
       "\n",
       "    .dataframe thead th {\n",
       "        text-align: right;\n",
       "    }\n",
       "</style>\n",
       "<table border=\"1\" class=\"dataframe\">\n",
       "  <thead>\n",
       "    <tr style=\"text-align: right;\">\n",
       "      <th></th>\n",
       "      <th>prcp</th>\n",
       "    </tr>\n",
       "  </thead>\n",
       "  <tbody>\n",
       "    <tr>\n",
       "      <th>count</th>\n",
       "      <td>2015.000000</td>\n",
       "    </tr>\n",
       "    <tr>\n",
       "      <th>mean</th>\n",
       "      <td>0.176462</td>\n",
       "    </tr>\n",
       "    <tr>\n",
       "      <th>std</th>\n",
       "      <td>0.460288</td>\n",
       "    </tr>\n",
       "    <tr>\n",
       "      <th>min</th>\n",
       "      <td>0.000000</td>\n",
       "    </tr>\n",
       "    <tr>\n",
       "      <th>25%</th>\n",
       "      <td>0.000000</td>\n",
       "    </tr>\n",
       "    <tr>\n",
       "      <th>50%</th>\n",
       "      <td>0.020000</td>\n",
       "    </tr>\n",
       "    <tr>\n",
       "      <th>75%</th>\n",
       "      <td>0.130000</td>\n",
       "    </tr>\n",
       "    <tr>\n",
       "      <th>max</th>\n",
       "      <td>6.700000</td>\n",
       "    </tr>\n",
       "  </tbody>\n",
       "</table>\n",
       "</div>"
      ],
      "text/plain": [
       "              prcp\n",
       "count  2015.000000\n",
       "mean      0.176462\n",
       "std       0.460288\n",
       "min       0.000000\n",
       "25%       0.000000\n",
       "50%       0.020000\n",
       "75%       0.130000\n",
       "max       6.700000"
      ]
     },
     "execution_count": 12,
     "metadata": {},
     "output_type": "execute_result"
    }
   ],
   "source": [
    "# Use Pandas to calcualte the summary statistics for the precipitation data\n",
    "precip_clean.describe()"
   ]
  },
  {
   "cell_type": "code",
   "execution_count": 13,
   "metadata": {},
   "outputs": [
    {
     "name": "stdout",
     "output_type": "stream",
     "text": [
      "There are 9 Stations Available.\n"
     ]
    }
   ],
   "source": [
    "# Design a query to show how many stations are available in this dataset?\n",
    "station_count = session.query(Station.station).count()\n",
    "print(f'There are {station_count} Stations Available.')\n"
   ]
  },
  {
   "cell_type": "code",
   "execution_count": 14,
   "metadata": {},
   "outputs": [
    {
     "name": "stdout",
     "output_type": "stream",
     "text": [
      "                                                    tobs\n",
      "station     name                                        \n",
      "USC00519281 WAIHEE 837.5, HI US                     2772\n",
      "USC00519397 WAIKIKI 717.2, HI US                    2724\n",
      "USC00513117 KANEOHE 838.1, HI US                    2709\n",
      "USC00519523 WAIMANALO EXPERIMENTAL FARM, HI US      2669\n",
      "USC00516128 MANOA LYON ARBO 785.2, HI US            2612\n",
      "USC00514830 KUALOA RANCH HEADQUARTERS 886.9, HI US  2202\n",
      "USC00511918 HONOLULU OBSERVATORY 702.2, HI US       1979\n",
      "USC00517948 PEARL CITY, HI US                       1372\n",
      "USC00518838 UPPER WAHIAWA 874.3, HI US               511\n"
     ]
    }
   ],
   "source": [
    "# What are the most active stations? (i.e. what stations have the most rows)?\n",
    "# List the stations and the counts in descending order.\n",
    "results = session.query(Measurement.station, Measurement.tobs).all()\n",
    "results2 = session.query(Station.station, Station.name).all()\n",
    "\n",
    "# Save the query results as a Pandas DataFrame\n",
    "station_obs = pd.DataFrame(results, columns=['station','tobs'])\n",
    "station_names = pd.DataFrame(results2, columns=['station','name'])\n",
    "combined_data = pd.merge(station_obs, station_names, on=\"station\", how=\"inner\")\n",
    "\n",
    "active_stations = combined_data.groupby(['station','name']).count()\n",
    "active_stations = active_stations.sort_values(by=['tobs'], ascending=False)\n",
    "print(active_stations)"
   ]
  },
  {
   "cell_type": "code",
   "execution_count": 15,
   "metadata": {},
   "outputs": [
    {
     "name": "stdout",
     "output_type": "stream",
     "text": [
      "The most active station is: USC00519281 (WAIHEE 837.5, HI US)\n",
      "It's lowest recorded temperature is: 54.0 degrees F\n",
      "It's highest recorded temperature is: 85.0 degrees F\n",
      "It's average recorded temperature is: 71.66378066378067 degrees F\n"
     ]
    }
   ],
   "source": [
    "# Using the station id from the previous query, calculate the lowest temperature recorded, \n",
    "# highest temperature recorded, and average temperature of the most active station?\n",
    "station_max = active_stations.index[0][0]\n",
    "station_name = active_stations.index[0][1]\n",
    "\n",
    "results = session.query(Measurement.tobs).filter(Measurement.station == station_max).all()\n",
    "observations = pd.DataFrame(results, columns=['tobs'])\n",
    "\n",
    "print(f'The most active station is: {station_max} ({station_name})')\n",
    "print(f\"It's lowest recorded temperature is: {observations['tobs'].min()} degrees F\")\n",
    "print(f\"It's highest recorded temperature is: {observations['tobs'].max()} degrees F\")\n",
    "print(f\"It's average recorded temperature is: {observations['tobs'].mean()} degrees F\")"
   ]
  },
  {
   "cell_type": "code",
   "execution_count": 16,
   "metadata": {},
   "outputs": [
    {
     "data": {
      "image/png": "[encoded data removed]",
      "text/plain": [
       "<Figure size 432x288 with 1 Axes>"
      ]
     },
     "metadata": {},
     "output_type": "display_data"
    }
   ],
   "source": [
    "# Choose the station with the highest number of temperature observations.\n",
    "# Query the last 12 months of temperature observation data for this station and plot the results as a histogram\n",
    "results = session.query(Measurement.tobs).filter(Measurement.station == station_max).filter(Measurement.date >= query_date).all()\n",
    "temp_data = pd.DataFrame(results, columns=['tobs'])\n",
    "session.close()\n",
    "\n",
    "# Histogram Plot of Salary Data\n",
    "plt.title('Temperature Observation Frequency')\n",
    "plt.hist(temp_data['tobs'], 12, density=True, alpha=0.7, label=\"tobs\")\n",
    "plt.axvline(temp_data['tobs'].mean(), color='b', linestyle='dashed', linewidth=1)\n",
    "plt.xlabel(\"Temperature\")\n",
    "plt.ylabel(\"Frequency\")\n",
    "plt.legend()  \n",
    "plt.show()"
   ]
  },
  {
   "cell_type": "markdown",
   "metadata": {},
   "source": [
    "## Bonus Challenge Assignment"
   ]
  },
  {
   "cell_type": "code",
   "execution_count": 17,
   "metadata": {},
   "outputs": [
    {
     "name": "stdout",
     "output_type": "stream",
     "text": [
      "[(62.0, 69.57142857142857, 74.0)]\n"
     ]
    }
   ],
   "source": [
    "# This function called `calc_temps` will accept start date and end date in the format '%Y-%m-%d' \n",
    "# and return the minimum, average, and maximum temperatures for that range of dates\n",
    "def calc_temps(start_date, end_date):\n",
    "    \"\"\"TMIN, TAVG, and TMAX for a list of dates.\n",
    "    \n",
    "    Args:\n",
    "        start_date (string): A date string in the format %Y-%m-%d\n",
    "        end_date (string): A date string in the format %Y-%m-%d\n",
    "        \n",
    "    Returns:\n",
    "        TMIN, TAVE, and TMAX\n",
    "    \"\"\"\n",
    "    \n",
    "    return session.query(func.min(Measurement.tobs), func.avg(Measurement.tobs), func.max(Measurement.tobs)).\\\n",
    "        filter(Measurement.date >= start_date).filter(Measurement.date <= end_date).all()\n",
    "\n",
    "# function usage example\n",
    "print(calc_temps('2012-02-28', '2012-03-05'))"
   ]
  },
  {
   "cell_type": "code",
   "execution_count": 68,
   "metadata": {},
   "outputs": [
    {
     "name": "stdout",
     "output_type": "stream",
     "text": [
      "2017-04-20 00:00:00\n",
      "2017-05-11 00:00:00\n",
      "[(58.0, 74.03225806451613, 81.0)]\n"
     ]
    }
   ],
   "source": [
    "# Use your previous function `calc_temps` to calculate the tmin, tavg, and tmax \n",
    "# for your trip using the previous year's data for those same dates.\n",
    "trip_start = '2018-04-20'\n",
    "date = datetime.strptime(trip_start, \"%Y-%m-%d\")\n",
    "trip_end = date + dt.timedelta(days=21)\n",
    "query_start = date - dt.timedelta(days=365)\n",
    "query_end = trip_end - dt.timedelta(days=365)\n",
    "results7 = calc_temps(query_start, query_end)\n",
    "\n",
    "print(query_start)\n",
    "print(query_end)\n",
    "print(results7)"
   ]
  },
  {
   "cell_type": "code",
   "execution_count": 69,
   "metadata": {},
   "outputs": [
    {
     "data": {
      "image/png": "[encoded data removed]",
      "text/plain": [
       "<Figure size 432x288 with 1 Axes>"
      ]
     },
     "metadata": {},
     "output_type": "display_data"
    }
   ],
   "source": [
    "# Plot the results from your previous query as a bar chart. \n",
    "# Use \"Trip Avg Temp\" as your Title\n",
    "# Use the average temperature for the y value\n",
    "# Use the peak-to-peak (tmax-tmin) value as the y error bar (yerr)\n",
    "error = (results7[0][2]-results7[0][0])/2\n",
    "plt.bar(0, results7[0][1], color='r', width=.1)\n",
    "plt.errorbar(0, results7[0][1], yerr=error)\n",
    "plt.title(\"Trip Avg Temp\")\n",
    "plt.ylabel(\"Temperature (F)\")\n",
    "plt.ylim(0, 100)\n",
    "plt.xlim(-0.1, .5)\n",
    "plt.grid(axis='x')\n",
    "plt.tight_layout()\n",
    "plt.show()"
   ]
  },
  {
   "cell_type": "code",
   "execution_count": 78,
   "metadata": {},
   "outputs": [
    {
     "data": {
      "text/html": [
       "<div>\n",
       "<style scoped>\n",
       "    .dataframe tbody tr th:only-of-type {\n",
       "        vertical-align: middle;\n",
       "    }\n",
       "\n",
       "    .dataframe tbody tr th {\n",
       "        vertical-align: top;\n",
       "    }\n",
       "\n",
       "    .dataframe thead th {\n",
       "        text-align: right;\n",
       "    }\n",
       "</style>\n",
       "<table border=\"1\" class=\"dataframe\">\n",
       "  <thead>\n",
       "    <tr style=\"text-align: right;\">\n",
       "      <th></th>\n",
       "      <th></th>\n",
       "      <th>prcp</th>\n",
       "      <th>latitude</th>\n",
       "      <th>longitude</th>\n",
       "      <th>elevation</th>\n",
       "    </tr>\n",
       "    <tr>\n",
       "      <th>station</th>\n",
       "      <th>name</th>\n",
       "      <th></th>\n",
       "      <th></th>\n",
       "      <th></th>\n",
       "      <th></th>\n",
       "    </tr>\n",
       "  </thead>\n",
       "  <tbody>\n",
       "    <tr>\n",
       "      <th>USC00519523</th>\n",
       "      <th>WAIMANALO EXPERIMENTAL FARM, HI US</th>\n",
       "      <td>10.74</td>\n",
       "      <td>405.37564</td>\n",
       "      <td>-2996.51641</td>\n",
       "      <td>370.5</td>\n",
       "    </tr>\n",
       "    <tr>\n",
       "      <th>USC00519281</th>\n",
       "      <th>WAIHEE 837.5, HI US</th>\n",
       "      <td>8.57</td>\n",
       "      <td>450.48507</td>\n",
       "      <td>-3314.82669</td>\n",
       "      <td>690.9</td>\n",
       "    </tr>\n",
       "    <tr>\n",
       "      <th>USC00513117</th>\n",
       "      <th>KANEOHE 838.1, HI US</th>\n",
       "      <td>8.55</td>\n",
       "      <td>449.89140</td>\n",
       "      <td>-3313.83150</td>\n",
       "      <td>306.6</td>\n",
       "    </tr>\n",
       "    <tr>\n",
       "      <th>USC00516128</th>\n",
       "      <th>MANOA LYON ARBO 785.2, HI US</th>\n",
       "      <td>8.22</td>\n",
       "      <td>426.66200</td>\n",
       "      <td>-3156.05000</td>\n",
       "      <td>3048.0</td>\n",
       "    </tr>\n",
       "    <tr>\n",
       "      <th>USC00514830</th>\n",
       "      <th>KUALOA RANCH HEADQUARTERS 886.9, HI US</th>\n",
       "      <td>6.06</td>\n",
       "      <td>387.38340</td>\n",
       "      <td>-2841.07320</td>\n",
       "      <td>126.0</td>\n",
       "    </tr>\n",
       "    <tr>\n",
       "      <th>USC00519397</th>\n",
       "      <th>WAIKIKI 717.2, HI US</th>\n",
       "      <td>1.86</td>\n",
       "      <td>425.43200</td>\n",
       "      <td>-3156.33600</td>\n",
       "      <td>60.0</td>\n",
       "    </tr>\n",
       "    <tr>\n",
       "      <th>USC00517948</th>\n",
       "      <th>PEARL CITY, HI US</th>\n",
       "      <td>0.00</td>\n",
       "      <td>106.96700</td>\n",
       "      <td>-789.87550</td>\n",
       "      <td>59.5</td>\n",
       "    </tr>\n",
       "  </tbody>\n",
       "</table>\n",
       "</div>"
      ],
      "text/plain": [
       "                                                     prcp   latitude  \\\n",
       "station     name                                                       \n",
       "USC00519523 WAIMANALO EXPERIMENTAL FARM, HI US      10.74  405.37564   \n",
       "USC00519281 WAIHEE 837.5, HI US                      8.57  450.48507   \n",
       "USC00513117 KANEOHE 838.1, HI US                     8.55  449.89140   \n",
       "USC00516128 MANOA LYON ARBO 785.2, HI US             8.22  426.66200   \n",
       "USC00514830 KUALOA RANCH HEADQUARTERS 886.9, HI US   6.06  387.38340   \n",
       "USC00519397 WAIKIKI 717.2, HI US                     1.86  425.43200   \n",
       "USC00517948 PEARL CITY, HI US                        0.00  106.96700   \n",
       "\n",
       "                                                     longitude  elevation  \n",
       "station     name                                                           \n",
       "USC00519523 WAIMANALO EXPERIMENTAL FARM, HI US     -2996.51641      370.5  \n",
       "USC00519281 WAIHEE 837.5, HI US                    -3314.82669      690.9  \n",
       "USC00513117 KANEOHE 838.1, HI US                   -3313.83150      306.6  \n",
       "USC00516128 MANOA LYON ARBO 785.2, HI US           -3156.05000     3048.0  \n",
       "USC00514830 KUALOA RANCH HEADQUARTERS 886.9, HI US -2841.07320      126.0  \n",
       "USC00519397 WAIKIKI 717.2, HI US                   -3156.33600       60.0  \n",
       "USC00517948 PEARL CITY, HI US                       -789.87550       59.5  "
      ]
     },
     "execution_count": 78,
     "metadata": {},
     "output_type": "execute_result"
    }
   ],
   "source": [
    "# Calculate the total amount of rainfall per weather station for your trip dates using the previous year's matching dates.\n",
    "# Sort this in descending order by precipitation amount and list the station, name, latitude, longitude, and elevation\n",
    "session = Session(engine)\n",
    "results8 = session.query(Measurement.date, Measurement.station, Measurement.prcp).filter(Measurement.date >= query_start).filter(Measurement.date <= query_end).all()\n",
    "results9 = session.query(Station.station, Station.name, Station.latitude,Station.longitude,Station.elevation).all()\n",
    "session.close()\n",
    "precipitation_data = pd.DataFrame(results8, columns=['date','station','prcp'])\n",
    "station_data = pd.DataFrame(results9, columns=['station','name','latitude','longitude','elevation'])\n",
    "combined_stations = pd.merge(precipitation_data, station_data, on=\"station\", how=\"inner\")\n",
    "station_precipitation = combined_stations.groupby(['station','name']).sum()\n",
    "station_precipitation = station_precipitation.sort_values(by=['prcp'], ascending=False)\n",
    "station_precipitation"
   ]
  },
  {
   "cell_type": "code",
   "execution_count": 91,
   "metadata": {},
   "outputs": [
    {
     "data": {
      "text/plain": [
       "[(62.0, 69.15384615384616, 77.0)]"
      ]
     },
     "execution_count": 91,
     "metadata": {},
     "output_type": "execute_result"
    }
   ],
   "source": [
    "# Create a query that will calculate the daily normals \n",
    "# (i.e. the averages for tmin, tmax, and tavg for all historic data matching a specific month and day)\n",
    "\n",
    "def daily_normals(date):\n",
    "    \"\"\"Daily Normals.\n",
    "    \n",
    "    Args:\n",
    "        date (str): A date string in the format '%m-%d'\n",
    "        \n",
    "    Returns:\n",
    "        A list of tuples containing the daily normals, tmin, tavg, and tmax\n",
    "    \n",
    "    \"\"\"\n",
    "    \n",
    "    sel = [func.min(Measurement.tobs), func.avg(Measurement.tobs), func.max(Measurement.tobs)]\n",
    "    return session.query(*sel).filter(func.strftime(\"%m-%d\", Measurement.date) == date).all()\n",
    "    \n",
    "daily_normals(\"01-01\")"
   ]
  },
  {
   "cell_type": "code",
   "execution_count": 95,
   "metadata": {},
   "outputs": [
    {
     "name": "stdout",
     "output_type": "stream",
     "text": [
      "['04-21', '04-22', '04-23', '04-24', '04-25', '04-26', '04-27', '04-28', '04-29', '04-30', '05-01', '05-02', '05-03', '05-04', '05-05', '05-06', '05-07', '05-08', '05-09', '05-10', '05-11']\n",
      "[(66.0, 72.32142857142857, 78.0), (65.0, 72.92727272727272, 84.0), (65.0, 73.01818181818182, 79.0), (67.0, 73.3103448275862, 80.0), (66.0, 73.96551724137932, 83.0), (66.0, 74.01724137931035, 81.0), (65.0, 72.87272727272727, 81.0), (63.0, 73.46428571428571, 79.0), (66.0, 73.30357142857143, 81.0), (58.0, 71.5576923076923, 78.0), (65.0, 72.75925925925925, 79.0), (65.0, 73.05084745762711, 79.0), (67.0, 73.41071428571429, 84.0), (65.0, 73.59649122807018, 78.0), (67.0, 73.39655172413794, 79.0), (66.0, 73.14035087719299, 80.0), (64.0, 71.78846153846153, 79.0), (65.0, 72.18867924528301, 80.0), (67.0, 72.9322033898305, 79.0), (64.0, 73.3157894736842, 78.0), (65.0, 73.61111111111111, 79.0)]\n"
     ]
    }
   ],
   "source": [
    "# calculate the daily normals for your trip\n",
    "# push each tuple of calculations into a list called `normals`\n",
    "# Set the start and end date of the trip\n",
    "# Use the start and end date to create a range of dates\n",
    "results10 = session.query(Measurement.date).filter(Measurement.date >= query_start).filter(Measurement.date <= query_end).all()\n",
    "# Stip off the year and save a list of %m-%d strings\n",
    "all_dates = []\n",
    "for date in results10:\n",
    "    date_str = str(date).replace(',','').replace('(','').replace(')','').replace(\"'\",'')\n",
    "    new_date = datetime.strptime(date_str, \"%Y-%m-%d\")\n",
    "    m_d = datetime.strftime(new_date, \"%m-%d\")\n",
    "    all_dates.append(m_d)\n",
    "trip_dates = list(set(all_dates))\n",
    "trip_dates.sort()\n",
    "print (trip_dates)        \n",
    "\n",
    "\n",
    "# Loop through the list of %m-%d strings and calculate the normals for each date\n",
    "normals = []\n",
    "for day in trip_dates:\n",
    "    norm_tobs = daily_normals(day)\n",
    "    tobs_tuple = (norm_tobs[0][0],norm_tobs[0][1],norm_tobs[0][2])\n",
    "    normals.append(tobs_tuple)\n",
    "session.close()\n",
    "print(normals)"
   ]
  },
  {
   "cell_type": "code",
   "execution_count": 109,
   "metadata": {},
   "outputs": [
    {
     "name": "stdout",
     "output_type": "stream",
     "text": [
      "            TMin       TAvg  TMax\n",
      "trip_dates                       \n",
      "04-21       66.0  72.321429  78.0\n",
      "04-22       65.0  72.927273  84.0\n",
      "04-23       65.0  73.018182  79.0\n",
      "04-24       67.0  73.310345  80.0\n",
      "04-25       66.0  73.965517  83.0\n",
      "04-26       66.0  74.017241  81.0\n",
      "04-27       65.0  72.872727  81.0\n",
      "04-28       63.0  73.464286  79.0\n",
      "04-29       66.0  73.303571  81.0\n",
      "04-30       58.0  71.557692  78.0\n",
      "05-01       65.0  72.759259  79.0\n",
      "05-02       65.0  73.050847  79.0\n",
      "05-03       67.0  73.410714  84.0\n",
      "05-04       65.0  73.596491  78.0\n",
      "05-05       67.0  73.396552  79.0\n",
      "05-06       66.0  73.140351  80.0\n",
      "05-07       64.0  71.788462  79.0\n",
      "05-08       65.0  72.188679  80.0\n",
      "05-09       67.0  72.932203  79.0\n",
      "05-10       64.0  73.315789  78.0\n",
      "05-11       65.0  73.611111  79.0\n"
     ]
    }
   ],
   "source": [
    "# Load the previous query results into a Pandas DataFrame and add the `trip_dates` range as the `date` index\n",
    "df = pd.DataFrame(normals, columns =['TMin', 'TAvg', 'TMax']) \n",
    "df['trip_dates'] = trip_dates\n",
    "df = df.set_index('trip_dates')\n",
    "print(df)  "
   ]
  },
  {
   "cell_type": "code",
   "execution_count": 117,
   "metadata": {},
   "outputs": [
    {
     "name": "stderr",
     "output_type": "stream",
     "text": [
      "C:\\Users\\RobandGrace\\anaconda3\\lib\\site-packages\\pandas\\plotting\\_matplotlib\\core.py:1235: UserWarning: FixedFormatter should only be used together with FixedLocator\n",
      "  ax.set_xticklabels(xticklabels)\n"
     ]
    },
    {
     "data": {
      "image/png": "[encoded data removed]",
      "text/plain": [
       "<Figure size 432x288 with 1 Axes>"
      ]
     },
     "metadata": {},
     "output_type": "display_data"
    }
   ],
   "source": [
    "# Plot the daily normals as an area plot with `stacked=False`\n",
    "df.plot.area(stacked=False)\n",
    "plt.title(\"Daily Normal Temperature\")\n",
    "plt.ylabel(\"Temperature (F)\")\n",
    "plt.xlabel(\"Trip Dates\")\n",
    "plt.ylim(0, 100)\n",
    "plt.xlim(0, len(df)+1)\n",
    "plt.grid()\n",
    "plt.tight_layout()\n",
    "plt.show()"
   ]
  },
  {
   "cell_type": "code",
   "execution_count": null,
   "metadata": {},
   "outputs": [],
   "source": []
  }
 ],
 "metadata": {
  "kernel_info": {
   "name": "python3"
  },
  "kernelspec": {
   "display_name": "Python 3",
   "language": "python",
   "name": "python3"
  },
  "language_info": {
   "codemirror_mode": {
    "name": "ipython",
    "version": 3
   },
   "file_extension": ".py",
   "mimetype": "text/x-python",
   "name": "python",
   "nbconvert_exporter": "python",
   "pygments_lexer": "ipython3",
   "version": "3.8.3"
  },
  "nteract": {
   "version": "0.12.3"
  },
  "varInspector": {
   "cols": {
    "lenName": 16,
    "lenType": 16,
    "lenVar": 40
   },
   "kernels_config": {
    "python": {
     "delete_cmd_postfix": "",
     "delete_cmd_prefix": "del ",
     "library": "var_list.py",
     "varRefreshCmd": "print(var_dic_list())"
    },
    "r": {
     "delete_cmd_postfix": ") ",
     "delete_cmd_prefix": "rm(",
     "library": "var_list.r",
     "varRefreshCmd": "cat(var_dic_list()) "
    }
   },
   "types_to_exclude": [
    "module",
    "function",
    "builtin_function_or_method",
    "instance",
    "_Feature"
   ],
   "window_display": false
  }
 },
 "nbformat": 4,
 "nbformat_minor": 4
}
